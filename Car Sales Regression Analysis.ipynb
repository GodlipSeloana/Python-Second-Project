{
 "cells": [
  {
   "cell_type": "code",
   "execution_count": 2,
   "id": "adc086d8",
   "metadata": {},
   "outputs": [],
   "source": [
    "import pandas as pd\n",
    "import numpy as np\n",
    "import statsmodels.api as sm"
   ]
  },
  {
   "cell_type": "code",
   "execution_count": 3,
   "id": "457a2dde",
   "metadata": {
    "scrolled": true
   },
   "outputs": [],
   "source": [
    "# Loading the dataset\n",
    "data = pd.read_excel('car_prices.xlsx')\n",
    "#print(data.head())"
   ]
  },
  {
   "cell_type": "code",
   "execution_count": 10,
   "id": "eeeb8d13",
   "metadata": {
    "scrolled": true
   },
   "outputs": [
    {
     "name": "stdout",
     "output_type": "stream",
     "text": [
      "                            OLS Regression Results                            \n",
      "==============================================================================\n",
      "Dep. Variable:           sellingprice   R-squared:                       0.129\n",
      "Model:                            OLS   Adj. R-squared:                  0.129\n",
      "Method:                 Least Squares   F-statistic:                 8.259e+04\n",
      "Date:                Fri, 08 Mar 2024   Prob (F-statistic):               0.00\n",
      "Time:                        02:02:29   Log-Likelihood:            -5.8872e+06\n",
      "No. Observations:              558825   AIC:                         1.177e+07\n",
      "Df Residuals:                  558823   BIC:                         1.177e+07\n",
      "Df Model:                           1                                         \n",
      "Covariance Type:            nonrobust                                         \n",
      "==============================================================================\n",
      "                 coef    std err          t      P>|t|      [0.025      0.975]\n",
      "------------------------------------------------------------------------------\n",
      "const       6284.1648     28.253    222.426      0.000    6228.790    6339.539\n",
      "condition    303.7877      1.057    287.389      0.000     301.716     305.860\n",
      "==============================================================================\n",
      "Omnibus:                   311958.581   Durbin-Watson:                   1.063\n",
      "Prob(Omnibus):                  0.000   Jarque-Bera (JB):          5186391.328\n",
      "Skew:                           2.340   Prob(JB):                         0.00\n",
      "Kurtosis:                      17.172   Cond. No.                         62.1\n",
      "==============================================================================\n",
      "\n",
      "Notes:\n",
      "[1] Standard Errors assume that the covariance matrix of the errors is correctly specified.\n"
     ]
    }
   ],
   "source": [
    "# Converting 'Condition' column to numeric using label encoding\n",
    "data['condition'] = pd.Categorical(data['condition']).codes\n",
    "\n",
    "# Converting 'Selling Price' column to numeric\n",
    "data['sellingprice'] = pd.to_numeric(data['sellingprice'], errors='coerce')\n",
    "\n",
    "# Droping rows with missing values in 'Selling Price' column\n",
    "data.dropna(subset=['sellingprice'], inplace=True)\n",
    "\n",
    "# Defining the independent variable X and the dependent variable y\n",
    "X_condition = data['condition']\n",
    "y_condition = data['sellingprice']\n",
    "\n",
    "# Adding a constant to the independent variable matrix for the intercept term\n",
    "X_condition = sm.add_constant(X_condition)\n",
    "\n",
    "# Fitting the linear regression model\n",
    "model_condition = sm.OLS(y_condition, X_condition).fit()\n",
    "\n",
    "# Printing the model summary\n",
    "print(model_condition.summary())"
   ]
  }
 ],
 "metadata": {
  "kernelspec": {
   "display_name": "Python 3 (ipykernel)",
   "language": "python",
   "name": "python3"
  },
  "language_info": {
   "codemirror_mode": {
    "name": "ipython",
    "version": 3
   },
   "file_extension": ".py",
   "mimetype": "text/x-python",
   "name": "python",
   "nbconvert_exporter": "python",
   "pygments_lexer": "ipython3",
   "version": "3.9.12"
  }
 },
 "nbformat": 4,
 "nbformat_minor": 5
}
