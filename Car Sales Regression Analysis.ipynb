{
 "cells": [
  {
   "cell_type": "code",
   "execution_count": 2,
   "id": "adc086d8",
   "metadata": {},
   "outputs": [],
   "source": [
    "import pandas as pd\n",
    "import numpy as np\n",
    "import statsmodels.api as sm"
   ]
  },
  {
   "cell_type": "code",
   "execution_count": 3,
   "id": "457a2dde",
   "metadata": {
    "scrolled": true
   },
   "outputs": [],
   "source": [
    "# Loading the dataset\n",
    "data = pd.read_excel('car_prices.xlsx')\n",
    "#print(data.head())"
   ]
  },
  {
   "cell_type": "code",
   "execution_count": 10,
   "id": "eeeb8d13",
   "metadata": {
    "scrolled": true
   },
   "outputs": [
    {
     "name": "stdout",
     "output_type": "stream",
     "text": [
      "                            OLS Regression Results                            \n",
      "==============================================================================\n",
      "Dep. Variable:           sellingprice   R-squared:                       0.129\n",
      "Model:                            OLS   Adj. R-squared:                  0.129\n",
      "Method:                 Least Squares   F-statistic:                 8.259e+04\n",
      "Date:                Fri, 08 Mar 2024   Prob (F-statistic):               0.00\n",
      "Time:                        02:02:29   Log-Likelihood:            -5.8872e+06\n",
      "No. Observations:              558825   AIC:                         1.177e+07\n",
      "Df Residuals:                  558823   BIC:                         1.177e+07\n",
      "Df Model:                           1                                         \n",
      "Covariance Type:            nonrobust                                         \n",
      "==============================================================================\n",
      "                 coef    std err          t      P>|t|      [0.025      0.975]\n",
      "------------------------------------------------------------------------------\n",
      "const       6284.1648     28.253    222.426      0.000    6228.790    6339.539\n",
      "condition    303.7877      1.057    287.389      0.000     301.716     305.860\n",
      "==============================================================================\n",
      "Omnibus:                   311958.581   Durbin-Watson:                   1.063\n",
      "Prob(Omnibus):                  0.000   Jarque-Bera (JB):          5186391.328\n",
      "Skew:                           2.340   Prob(JB):                         0.00\n",
      "Kurtosis:                      17.172   Cond. No.                         62.1\n",
      "==============================================================================\n",
      "\n",
      "Notes:\n",
      "[1] Standard Errors assume that the covariance matrix of the errors is correctly specified.\n"
     ]
    }
   ],
   "source": [
    "# Converting 'Condition' column to numeric using label encoding\n",
    "data['condition'] = pd.Categorical(data['condition']).codes\n",
    "\n",
    "# Converting 'Selling Price' column to numeric\n",
    "data['sellingprice'] = pd.to_numeric(data['sellingprice'], errors='coerce')\n",
    "\n",
    "# Droping rows with missing values in 'Selling Price' column\n",
    "data.dropna(subset=['sellingprice'], inplace=True)\n",
    "\n",
    "# Defining the independent variable X and the dependent variable y\n",
    "X_condition = data['condition']\n",
    "y_condition = data['sellingprice']\n",
    "\n",
    "# Adding a constant to the independent variable matrix for the intercept term\n",
    "X_condition = sm.add_constant(X_condition)\n",
    "\n",
    "# Fitting the linear regression model\n",
    "model_condition = sm.OLS(y_condition, X_condition).fit()\n",
    "\n",
    "# Printing the model summary\n",
    "print(model_condition.summary())"
   ]
  },
  {
   "cell_type": "code",
   "execution_count": 11,
   "id": "c4527f0c",
   "metadata": {},
   "outputs": [
    {
     "name": "stdout",
     "output_type": "stream",
     "text": [
      "                            OLS Regression Results                            \n",
      "==============================================================================\n",
      "Dep. Variable:           sellingprice   R-squared:                       0.339\n",
      "Model:                            OLS   Adj. R-squared:                  0.339\n",
      "Method:                 Least Squares   F-statistic:                 2.868e+05\n",
      "Date:                Fri, 08 Mar 2024   Prob (F-statistic):               0.00\n",
      "Time:                        02:05:03   Log-Likelihood:            -5.8090e+06\n",
      "No. Observations:              558731   AIC:                         1.162e+07\n",
      "Df Residuals:                  558729   BIC:                         1.162e+07\n",
      "Df Model:                           1                                         \n",
      "Covariance Type:            nonrobust                                         \n",
      "==============================================================================\n",
      "                 coef    std err          t      P>|t|      [0.025      0.975]\n",
      "------------------------------------------------------------------------------\n",
      "const       2.088e+04     17.217   1212.599      0.000    2.08e+04    2.09e+04\n",
      "odometer      -0.1063      0.000   -535.521      0.000      -0.107      -0.106\n",
      "==============================================================================\n",
      "Omnibus:                   379122.287   Durbin-Watson:                   1.370\n",
      "Prob(Omnibus):                  0.000   Jarque-Bera (JB):         11727458.165\n",
      "Skew:                           2.847   Prob(JB):                         0.00\n",
      "Kurtosis:                      24.710   Cond. No.                     1.41e+05\n",
      "==============================================================================\n",
      "\n",
      "Notes:\n",
      "[1] Standard Errors assume that the covariance matrix of the errors is correctly specified.\n",
      "[2] The condition number is large, 1.41e+05. This might indicate that there are\n",
      "strong multicollinearity or other numerical problems.\n"
     ]
    }
   ],
   "source": [
    "# Converting 'Odometer' and 'Selling Price' columns to numeric types\n",
    "data['odometer'] = pd.to_numeric(data['odometer'], errors='coerce')\n",
    "data['sellingprice'] = pd.to_numeric(data['sellingprice'], errors='coerce')\n",
    "\n",
    "# Droping rows with missing values\n",
    "data.dropna(subset=['odometer', 'sellingprice'], inplace=True)\n",
    "\n",
    "# For Odometer vs Selling Price\n",
    "# Definifing the independent variable X and the dependent variable y\n",
    "X_odometer = data[['odometer']]\n",
    "y_odometer = data['sellingprice']\n",
    "\n",
    "# Adding a constant to the independent variable matrix for the intercept term\n",
    "X_odometer = sm.add_constant(X_odometer)\n",
    "\n",
    "# Fitting the linear regression model\n",
    "model_odometer = sm.OLS(y_odometer, X_odometer).fit()\n",
    "\n",
    "# Printing the model summary\n",
    "print(model_odometer.summary())"
   ]
  }
 ],
 "metadata": {
  "kernelspec": {
   "display_name": "Python 3 (ipykernel)",
   "language": "python",
   "name": "python3"
  },
  "language_info": {
   "codemirror_mode": {
    "name": "ipython",
    "version": 3
   },
   "file_extension": ".py",
   "mimetype": "text/x-python",
   "name": "python",
   "nbconvert_exporter": "python",
   "pygments_lexer": "ipython3",
   "version": "3.9.12"
  }
 },
 "nbformat": 4,
 "nbformat_minor": 5
}
